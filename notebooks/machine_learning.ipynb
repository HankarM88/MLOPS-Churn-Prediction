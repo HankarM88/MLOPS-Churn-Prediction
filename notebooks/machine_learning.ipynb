{
 "cells": [
  {
   "cell_type": "markdown",
   "id": "32c2d230-c033-4e9a-8deb-58604ebcdbe1",
   "metadata": {},
   "source": [
    "### Import Dependencies"
   ]
  },
  {
   "cell_type": "code",
   "execution_count": 3,
   "id": "6b991fcb-01b3-4140-a128-3af04535d34d",
   "metadata": {},
   "outputs": [],
   "source": [
    "import pickle\n",
    "import numpy as np  \n",
    "import pandas as pd\n",
    "import seaborn as sns\n",
    "from matplotlib import pyplot as plt\n",
    "from sklearn.model_selection import train_test_split\n",
    "from sklearn.feature_selection import RFE\n",
    "from sklearn.ensemble import RandomForestClassifier\n",
    "from sklearn.preprocessing import StandardScaler\n",
    "from sklearn.svm import SVC\n",
    "from sklearn.linear_model import LogisticRegression\n",
    "from sklearn.neighbors import KNeighborsClassifier\n",
    "from sklearn.ensemble import GradientBoostingClassifier\n",
    "from sklearn.metrics import accuracy_score, confusion_matrix, classification_report,f1_score"
   ]
  },
  {
   "cell_type": "markdown",
   "id": "1fabf05b-b7e2-4e5b-a8d9-d6136b1de136",
   "metadata": {},
   "source": [
    "### Load Preprocessd Data"
   ]
  },
  {
   "cell_type": "code",
   "execution_count": 11,
   "id": "bd736d3a-d678-4b0e-8b0b-363a33cb0fe6",
   "metadata": {},
   "outputs": [
    {
     "data": {
      "text/plain": [
       "department         int64\n",
       "promoted           int64\n",
       "review           float64\n",
       "projects           int64\n",
       "salary             int64\n",
       "tenure           float64\n",
       "satisfaction     float64\n",
       "bonus              int64\n",
       "avg_hrs_month    float64\n",
       "left               int64\n",
       "dtype: object"
      ]
     },
     "execution_count": 11,
     "metadata": {},
     "output_type": "execute_result"
    }
   ],
   "source": [
    "df.dtypes"
   ]
  },
  {
   "cell_type": "code",
   "execution_count": 5,
   "id": "aff87a0e-972e-49aa-a1b6-4b2b43a77e35",
   "metadata": {},
   "outputs": [
    {
     "data": {
      "text/html": [
       "<div>\n",
       "<style scoped>\n",
       "    .dataframe tbody tr th:only-of-type {\n",
       "        vertical-align: middle;\n",
       "    }\n",
       "\n",
       "    .dataframe tbody tr th {\n",
       "        vertical-align: top;\n",
       "    }\n",
       "\n",
       "    .dataframe thead th {\n",
       "        text-align: right;\n",
       "    }\n",
       "</style>\n",
       "<table border=\"1\" class=\"dataframe\">\n",
       "  <thead>\n",
       "    <tr style=\"text-align: right;\">\n",
       "      <th></th>\n",
       "      <th>department</th>\n",
       "      <th>promoted</th>\n",
       "      <th>review</th>\n",
       "      <th>projects</th>\n",
       "      <th>salary</th>\n",
       "      <th>tenure</th>\n",
       "      <th>satisfaction</th>\n",
       "      <th>bonus</th>\n",
       "      <th>avg_hrs_month</th>\n",
       "      <th>left</th>\n",
       "    </tr>\n",
       "  </thead>\n",
       "  <tbody>\n",
       "    <tr>\n",
       "      <th>0</th>\n",
       "      <td>6</td>\n",
       "      <td>0</td>\n",
       "      <td>0.577569</td>\n",
       "      <td>3</td>\n",
       "      <td>1</td>\n",
       "      <td>5.0</td>\n",
       "      <td>0.626759</td>\n",
       "      <td>0</td>\n",
       "      <td>180.866070</td>\n",
       "      <td>0</td>\n",
       "    </tr>\n",
       "    <tr>\n",
       "      <th>1</th>\n",
       "      <td>6</td>\n",
       "      <td>0</td>\n",
       "      <td>0.751900</td>\n",
       "      <td>3</td>\n",
       "      <td>2</td>\n",
       "      <td>6.0</td>\n",
       "      <td>0.443679</td>\n",
       "      <td>0</td>\n",
       "      <td>182.708149</td>\n",
       "      <td>0</td>\n",
       "    </tr>\n",
       "    <tr>\n",
       "      <th>2</th>\n",
       "      <td>9</td>\n",
       "      <td>0</td>\n",
       "      <td>0.722548</td>\n",
       "      <td>3</td>\n",
       "      <td>2</td>\n",
       "      <td>6.0</td>\n",
       "      <td>0.446823</td>\n",
       "      <td>0</td>\n",
       "      <td>184.416084</td>\n",
       "      <td>0</td>\n",
       "    </tr>\n",
       "    <tr>\n",
       "      <th>3</th>\n",
       "      <td>4</td>\n",
       "      <td>0</td>\n",
       "      <td>0.675158</td>\n",
       "      <td>4</td>\n",
       "      <td>0</td>\n",
       "      <td>8.0</td>\n",
       "      <td>0.440139</td>\n",
       "      <td>0</td>\n",
       "      <td>188.707545</td>\n",
       "      <td>0</td>\n",
       "    </tr>\n",
       "    <tr>\n",
       "      <th>4</th>\n",
       "      <td>8</td>\n",
       "      <td>0</td>\n",
       "      <td>0.676203</td>\n",
       "      <td>3</td>\n",
       "      <td>0</td>\n",
       "      <td>5.0</td>\n",
       "      <td>0.577607</td>\n",
       "      <td>1</td>\n",
       "      <td>179.821083</td>\n",
       "      <td>0</td>\n",
       "    </tr>\n",
       "  </tbody>\n",
       "</table>\n",
       "</div>"
      ],
      "text/plain": [
       "   department  promoted    review  projects  salary  tenure  satisfaction  \\\n",
       "0           6         0  0.577569         3       1     5.0      0.626759   \n",
       "1           6         0  0.751900         3       2     6.0      0.443679   \n",
       "2           9         0  0.722548         3       2     6.0      0.446823   \n",
       "3           4         0  0.675158         4       0     8.0      0.440139   \n",
       "4           8         0  0.676203         3       0     5.0      0.577607   \n",
       "\n",
       "   bonus  avg_hrs_month  left  \n",
       "0      0     180.866070     0  \n",
       "1      0     182.708149     0  \n",
       "2      0     184.416084     0  \n",
       "3      0     188.707545     0  \n",
       "4      1     179.821083     0  "
      ]
     },
     "execution_count": 5,
     "metadata": {},
     "output_type": "execute_result"
    }
   ],
   "source": [
    "# Load preprocesind data\n",
    "df = pd.read_csv(\"../data/preprocessed_data.csv\")\n",
    "# Show datafrma e head\n",
    "df.head()"
   ]
  },
  {
   "cell_type": "markdown",
   "id": "c39f0f0f-7f50-4092-8f76-7ec790a349ab",
   "metadata": {},
   "source": [
    "### Model Devloppment \n",
    "In this stage, five machine learning models will be trained and tested. Namely, Logistic Regression (LogReg), K-Nearest Nieghbors Classifier (KNN) , Random Forest Classifier (RFC), Spport Vector Machines (SVM), and Gradient Boosting Classifier (GBC). All the models are trained and fine-tuned using  hyperparamaters. After the training task is done , the classifiers are then evaluated using two different metrics: accuracy score and f1 score. Based on the results, we select model with the highest accuracy score , and the highest f1 score to make predictions on unseen data. "
   ]
  },
  {
   "cell_type": "code",
   "execution_count": 13,
   "id": "ebccc06d-571e-4d0f-a4a1-252485550397",
   "metadata": {},
   "outputs": [
    {
     "name": "stdout",
     "output_type": "stream",
     "text": [
      "******************************\n",
      "Training LOGREG Model\n",
      "Done.\n",
      "******************************\n",
      "Training KNN Model\n",
      "Done.\n",
      "******************************\n",
      "Training RFC Model\n",
      "Done.\n",
      "******************************\n",
      "Training GBC Model\n",
      "Done.\n",
      "******************************\n",
      "Training SVC Model\n",
      "Done.\n"
     ]
    },
    {
     "data": {
      "text/html": [
       "<div>\n",
       "<style scoped>\n",
       "    .dataframe tbody tr th:only-of-type {\n",
       "        vertical-align: middle;\n",
       "    }\n",
       "\n",
       "    .dataframe tbody tr th {\n",
       "        vertical-align: top;\n",
       "    }\n",
       "\n",
       "    .dataframe thead th {\n",
       "        text-align: right;\n",
       "    }\n",
       "</style>\n",
       "<table border=\"1\" class=\"dataframe\">\n",
       "  <thead>\n",
       "    <tr style=\"text-align: right;\">\n",
       "      <th></th>\n",
       "      <th>Model</th>\n",
       "      <th>Accuracy Score</th>\n",
       "      <th>F1 Score</th>\n",
       "    </tr>\n",
       "  </thead>\n",
       "  <tbody>\n",
       "    <tr>\n",
       "      <th>0</th>\n",
       "      <td>LOGREG</td>\n",
       "      <td>0.726765</td>\n",
       "      <td>0.337288</td>\n",
       "    </tr>\n",
       "    <tr>\n",
       "      <th>1</th>\n",
       "      <td>KNN</td>\n",
       "      <td>0.828092</td>\n",
       "      <td>0.690176</td>\n",
       "    </tr>\n",
       "    <tr>\n",
       "      <th>2</th>\n",
       "      <td>RFC</td>\n",
       "      <td>0.861635</td>\n",
       "      <td>0.738095</td>\n",
       "    </tr>\n",
       "    <tr>\n",
       "      <th>3</th>\n",
       "      <td>GBC</td>\n",
       "      <td>0.856744</td>\n",
       "      <td>0.734112</td>\n",
       "    </tr>\n",
       "    <tr>\n",
       "      <th>4</th>\n",
       "      <td>SVC</td>\n",
       "      <td>0.828442</td>\n",
       "      <td>0.656403</td>\n",
       "    </tr>\n",
       "  </tbody>\n",
       "</table>\n",
       "</div>"
      ],
      "text/plain": [
       "    Model  Accuracy Score  F1 Score\n",
       "0  LOGREG        0.726765  0.337288\n",
       "1     KNN        0.828092  0.690176\n",
       "2     RFC        0.861635  0.738095\n",
       "3     GBC        0.856744  0.734112\n",
       "4     SVC        0.828442  0.656403"
      ]
     },
     "execution_count": 13,
     "metadata": {},
     "output_type": "execute_result"
    }
   ],
   "source": [
    "# Target variable\n",
    "y = df.left\n",
    "# Predictors  \n",
    "X = df.drop('left',axis=1)\n",
    "# Split data into train and test sets \n",
    "X_train, X_test, y_train, y_test = train_test_split(X, y, test_size=0.3, random_state=101)\n",
    "# Scaling data  \n",
    "scaler = StandardScaler()\n",
    "scaler.fit(X_train)\n",
    "X_train_scaled = scaler.transform(X_train)\n",
    "X_test_scaled = scaler.transform(X_test)\n",
    "\n",
    "# Models dictionary  \n",
    "model_dict = {'logreg':LogisticRegression(),\n",
    "              'knn': KNeighborsClassifier(n_neighbors=5,weights='uniform'),\n",
    "               'rfc': RandomForestClassifier(n_estimators = 100, max_depth =10, random_state = 43),\n",
    "               'gbc': GradientBoostingClassifier(n_estimators=100, max_depth=6,learning_rate=0.1),\n",
    "               'svc' : SVC(C=1.0,degree=3, kernel='rbf')}                                  \n",
    "\n",
    "# Uppercase model names \n",
    "models = [key.upper() for key in model_dict.keys()]\n",
    "acc_scores = []\n",
    "f1_scores  = []\n",
    "# Begin Training models \n",
    "for name, model in model_dict.items():\n",
    "    print(\"*\"*30)\n",
    "    print(f'Training {name.upper()} Model')\n",
    "    model.fit(X_train_scaled, y_train)\n",
    "    preds = model.predict(X_test_scaled)\n",
    "    acc = accuracy_score(y_test, preds)\n",
    "    f1  = f1_score(y_test, preds)\n",
    "    acc_scores.append(acc)\n",
    "    f1_scores.append(f1)\n",
    "    print('Done.')\n",
    "    \n",
    "# Save the results in a dataframe \n",
    "results_df = pd.DataFrame(list(zip(models,acc_scores,f1_scores)),columns=['Model','Accuracy Score','F1 Score'])\n",
    "# show the results  \n",
    "results_df"
   ]
  },
  {
   "cell_type": "markdown",
   "id": "362f568d-064a-471a-8704-9b1cc07de6ad",
   "metadata": {},
   "source": [
    "Four machine learning were trained and tuned in order to select the best performing model. From the dataframe above, we notice that Random Forest Classifier (RFC) has the highest accuracy and f1 score. We used a feature selection technique on top of RFC model to select the most relevent features to the target variable (left). These feaures are: department, review, projects, tenure, satisfaction,  and avg_hrs_month. "
   ]
  },
  {
   "cell_type": "markdown",
   "id": "168682fe-0bb4-42fa-8af2-1ba95633e541",
   "metadata": {},
   "source": [
    "### Feature selection: which features to select for RFC Model ?\n",
    "Feature selection refers to techniques that select a subset of the most relevant features (columns) for a dataset. Fewer features can allow machine learning algorithms to run more efficiently (less space or time complexity) and be more effective. Some machine learning algorithms can be misled by irrelevant input features, resulting in worse predictive performance.<br>\n",
    "RFE is a wrapper-type feature selection algorithm. This means that a different machine learning algorithm is given and used in the core of the method, is wrapped by RFE, and used to help select features. This is in contrast to filter-based feature selections that score each feature and select those features with the largest (or smallest) score.Technically, RFE is a wrapper-style feature selection algorithm that also uses filter-based feature selection internally. RFE works by searching for a subset of features by starting with all features in the training dataset and successfully removing features until the desired number remains.\n"
   ]
  },
  {
   "cell_type": "markdown",
   "id": "759f4980-a154-488d-ae3c-b2a0599d482d",
   "metadata": {},
   "source": [
    "### Feature Importance"
   ]
  },
  {
   "cell_type": "code",
   "execution_count": 17,
   "id": "4a2e5868-4830-4004-8c87-93d016b550f2",
   "metadata": {},
   "outputs": [
    {
     "name": "stdout",
     "output_type": "stream",
     "text": [
      "[ True False  True  True False  True  True False  True]\n",
      "[1 4 1 1 2 1 1 3 1]\n",
      "Important features to select are:\n",
      "['department', 'review', 'projects', 'tenure', 'satisfaction', 'avg_hrs_month']\n"
     ]
    }
   ],
   "source": [
    "# Random Forest Classifier  \n",
    "rfc = RandomForestClassifier(n_estimators=100, max_depth=10)\n",
    "selector = RFE(estimator=rfc, n_features_to_select=6, step=1)\n",
    "selector = selector.fit(X_train, y_train)\n",
    "print(selector.support_)\n",
    "print(selector.ranking_)\n",
    "#print the important features to select for modeling \n",
    "important_features = list(X.columns[selector.support_])\n",
    "print('Important features to select are:')\n",
    "print(important_features)"
   ]
  },
  {
   "cell_type": "markdown",
   "id": "7e919be7-8c64-4d6d-b966-1aca5e58615c",
   "metadata": {},
   "source": [
    "Let's keep only relevant features for RFC classifer to make our predictions "
   ]
  },
  {
   "cell_type": "code",
   "execution_count": 19,
   "id": "54d4ff96-7f35-4a28-aa78-217d02dc3fbb",
   "metadata": {},
   "outputs": [],
   "source": [
    "#choose important features for RFC model \n",
    "X_important = X[important_features]\n",
    "# resplit the data into train and test set \n",
    "X_train, X_test, y_train, y_test = train_test_split(X_important, y, test_size=0.3, random_state=0)\n",
    "#instanciate the classifier \n",
    "rfc = RandomForestClassifier(n_estimators = 100, max_depth =10, random_state = 43)\n",
    "# fit the model \n",
    "rfc.fit(X_train,y_train)\n",
    "#predict \n",
    "rfc_preds = rfc.predict(X_test)\n",
    "#  evaluate the model \n",
    "acc = accuracy_score(rfc_preds,y_test)\n",
    "f1 = f1_score(rfc_preds,y_test)\n",
    "cfm = confusion_matrix(rfc_preds,y_test)\n",
    "report = classification_report (rfc_preds,y_test)"
   ]
  },
  {
   "cell_type": "code",
   "execution_count": 23,
   "id": "6010cb73-a64e-4b16-9484-3542b9a387db",
   "metadata": {},
   "outputs": [
    {
     "data": {
      "text/plain": [
       "department         int64\n",
       "review           float64\n",
       "projects           int64\n",
       "tenure           float64\n",
       "satisfaction     float64\n",
       "avg_hrs_month    float64\n",
       "dtype: object"
      ]
     },
     "execution_count": 23,
     "metadata": {},
     "output_type": "execute_result"
    }
   ],
   "source": [
    "X_important.dtypes"
   ]
  },
  {
   "cell_type": "code",
   "execution_count": 45,
   "id": "505adf19-5c05-4f67-9833-9bbf96ca3270",
   "metadata": {},
   "outputs": [
    {
     "name": "stdout",
     "output_type": "stream",
     "text": [
      "RFC Metrics:\n",
      "Accuracy Score: 0.86\n",
      "Classification Report:\n",
      "               precision    recall  f1-score   support\n",
      "\n",
      "           0       0.94      0.87      0.90      2151\n",
      "           1       0.67      0.83      0.74       711\n",
      "\n",
      "    accuracy                           0.86      2862\n",
      "   macro avg       0.81      0.85      0.82      2862\n",
      "weighted avg       0.87      0.86      0.86      2862\n",
      "\n",
      "Confusion Matrix:\n"
     ]
    },
    {
     "data": {
      "text/plain": [
       "Text(0.5, 1.0, 'RFC Confusion Matrix')"
      ]
     },
     "execution_count": 45,
     "metadata": {},
     "output_type": "execute_result"
    },
    {
     "data": {
      "image/png": "[encoded data removed]",
      "text/plain": [
       "<Figure size 800x500 with 2 Axes>"
      ]
     },
     "metadata": {},
     "output_type": "display_data"
    }
   ],
   "source": [
    "#show Metrics \n",
    "print('RFC Metrics:')\n",
    "print(f'Accuracy Score: {round(acc,2)}')\n",
    "print(f'Classification Report:\\n {report}')\n",
    "#plot the confusion matrix as as heatmap \n",
    "print('Confusion Matrix:')\n",
    "plt.figure(figsize=(8,5))\n",
    "sns.heatmap(cfm, annot=True, fmt='.0f',xticklabels = [\"Left\", \"Stayed\"] , yticklabels = [\"Left\", \"Stayed\"] )\n",
    "plt.ylabel('True')\n",
    "plt.xlabel('Predicted')\n",
    "plt.title('RFC Confusion Matrix')"
   ]
  },
  {
   "cell_type": "code",
   "execution_count": 25,
   "id": "84373892-6f54-4cfe-ad5b-c31b2aec10b8",
   "metadata": {},
   "outputs": [],
   "source": [
    "# Save the models \n",
    "with open('../models/RFC.pkl','wb') as file:\n",
    "    pickle.dump(rfc,file)"
   ]
  },
  {
   "cell_type": "markdown",
   "id": "1f67a5ba-e80c-4dd3-b844-531625033bff",
   "metadata": {},
   "source": [
    "#### Interpretation:\n",
    "When an employee leaves, we ask ousevlves how often does the model predict that correctly? This measurement is called “recall” of the classifier. Based on the results above, we notice that random RFC and GBC outperformed other models in terms of recall. Out of all the turnover cases, RFC correctly retrieved 1866 out of 2151. This translates to a turnover recall of about 85% , far than other models. \n",
    "When a classifier predicts an employee will leave, how often does that employee actually leave? This measurement is called “precision”. GBC model outperformed the other models with a precision of 82%, but not far from RFC model wich has a precision scoreof 81. Both models have the same F1 score. As a result, we can choose one of the wo models to predict wether an employee will leave the company or not. Let's see if we could help with some receommandations. "
   ]
  },
  {
   "cell_type": "markdown",
   "id": "38325cb5-80a5-4ecb-b995-e6646558ebe5",
   "metadata": {},
   "source": [
    "### Recommandations:\n",
    "After conducting the turnover analysis based on EDA visualizations and ML methods, we saw that some feaures in the dataset seem to be very relevent to making a decision wether an employee will leave the company or stay. As result of this, we suggeste to these recommendations to reduce the rate of turnover:\n",
    "1. Improve the career work of the employee by motivating him with promotions for every task or project being achieved.\n",
    "2. Rewarding the employee by a bonus could motivate him to stay at the company and be productive.\n",
    "3. Avoiding to overload the employees with many hours of work per month and look for other ways to raise productivity of the employee. \n",
    "4. Conducting another reviewing system that will make employees more comfortable in their departments, and motivate the ones with good scores with promotions or bonuses. \n"
   ]
  }
 ],
 "metadata": {
  "kernelspec": {
   "display_name": "Python 3 (ipykernel)",
   "language": "python",
   "name": "python3"
  },
  "language_info": {
   "codemirror_mode": {
    "name": "ipython",
    "version": 3
   },
   "file_extension": ".py",
   "mimetype": "text/x-python",
   "name": "python",
   "nbconvert_exporter": "python",
   "pygments_lexer": "ipython3",
   "version": "3.12.4"
  }
 },
 "nbformat": 4,
 "nbformat_minor": 5
}
